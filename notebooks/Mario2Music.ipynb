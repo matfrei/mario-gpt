{
 "cells": [
  {
   "cell_type": "markdown",
   "id": "79dde41a",
   "metadata": {},
   "source": [
    "## Load Stuff"
   ]
  },
  {
   "cell_type": "code",
   "execution_count": 1,
   "id": "4eaf9f86",
   "metadata": {},
   "outputs": [],
   "source": [
    "import torch\n",
    "from mario_gpt import MarioDataset, MarioLM\n",
    "from mario_gpt.utils import view_level, convert_level_to_png, join_list_of_list, characterize"
   ]
  },
  {
   "cell_type": "markdown",
   "id": "d81d227f",
   "metadata": {},
   "source": [
    "### Load Model"
   ]
  },
  {
   "cell_type": "code",
   "execution_count": 2,
   "id": "1071022d",
   "metadata": {},
   "outputs": [
    {
     "name": "stdout",
     "output_type": "stream",
     "text": [
      "Using shyamsn97/Mario-GPT2-700-context-length lm\n"
     ]
    },
    {
     "name": "stderr",
     "output_type": "stream",
     "text": [
      "/home/matthias/Documents/envs/alife-music/lib/python3.10/site-packages/transformers/models/auto/modeling_auto.py:1739: FutureWarning: The class `AutoModelWithLMHead` is deprecated and will be removed in a future version. Please use `AutoModelForCausalLM` for causal language models, `AutoModelForMaskedLM` for masked language models and `AutoModelForSeq2SeqLM` for encoder-decoder models.\n",
      "  warnings.warn(\n"
     ]
    },
    {
     "name": "stdout",
     "output_type": "stream",
     "text": [
      "Using shyamsn97/Mario-GPT2-700-context-length tokenizer\n"
     ]
    }
   ],
   "source": [
    "mario_lm = MarioLM()"
   ]
  },
  {
   "cell_type": "markdown",
   "id": "1add400f",
   "metadata": {},
   "source": [
    "### Load Dataset (Optional)"
   ]
  },
  {
   "cell_type": "code",
   "execution_count": 3,
   "id": "385dce49",
   "metadata": {},
   "outputs": [
    {
     "name": "stderr",
     "output_type": "stream",
     "text": [
      "Token indices sequence length is longer than the specified maximum sequence length for this model (102116 > 1024). Running this sequence through the model will result in indexing errors\n"
     ]
    },
    {
     "name": "stdout",
     "output_type": "stream",
     "text": [
      "No level string specified, using default string FULL_LEVEL_STR_WITH_PATHS...\n",
      "\n",
      "\n",
      "\n"
     ]
    }
   ],
   "source": [
    "dataset = MarioDataset(mario_lm.tokenizer)"
   ]
  },
  {
   "cell_type": "markdown",
   "id": "8060b333",
   "metadata": {},
   "source": [
    "#### View string representation of level"
   ]
  },
  {
   "cell_type": "code",
   "execution_count": 4,
   "id": "5bf345f3",
   "metadata": {},
   "outputs": [
    {
     "data": {
      "text/plain": [
       "['--------------------------------------------------',\n",
       " '--------------------------------------------------',\n",
       " '--------------------------------------------------',\n",
       " '--------------------------------------------------',\n",
       " '-------------------------------------------------o',\n",
       " '--------XSSSSS---------------------------------SSS',\n",
       " '--------X-----------------------------------------',\n",
       " '--------X-----------------------------------------',\n",
       " '-------EX--E-X---------------xxxx-?-----------xxxx',\n",
       " '--------XSS?SX---QQ?QQ------xx<>-x-----------xx--?',\n",
       " '---------------------------xx-[]--x---------xx----',\n",
       " '--------------------------xx--[]---x-------xx-----',\n",
       " 'xxxxxxxxxxxxxxxxxxxxxxxxxxx---[]----xxxxxxxx------',\n",
       " 'XXXXXXXXXXXXXXXXXXXXXXXXXXXXXXXXXXXXXXXXXXXX---XXX']"
      ]
     },
     "execution_count": 4,
     "metadata": {},
     "output_type": "execute_result"
    }
   ],
   "source": [
    "view_level(dataset.input_ids[:700], mario_lm.tokenizer)"
   ]
  },
  {
   "cell_type": "markdown",
   "id": "b7a1c025",
   "metadata": {},
   "source": [
    "#### Image"
   ]
  },
  {
   "cell_type": "markdown",
   "id": "d7dde246",
   "metadata": {
    "tags": []
   },
   "source": [
    "##### Previewing the first 50 columns of the dataset"
   ]
  },
  {
   "cell_type": "code",
   "execution_count": 5,
   "id": "9523d94f",
   "metadata": {},
   "outputs": [
    {
     "name": "stderr",
     "output_type": "stream",
     "text": [
      "/usr/lib/python3/dist-packages/PIL/Image.py:945: UserWarning: Palette images with Transparency expressed in bytes should be converted to RGBA images\n",
      "  warnings.warn(\n"
     ]
    },
    {
     "data": {
      "image/png": "[encoded data removed]",
      "text/plain": [
       "<PIL.Image.Image image mode=RGB size=800x224 at 0x730B1A4AC7F0>"
      ]
     },
     "execution_count": 5,
     "metadata": {},
     "output_type": "execute_result"
    }
   ],
   "source": [
    "img = convert_level_to_png(dataset.input_ids[:700],  mario_lm.tokenizer)[0]\n",
    "img"
   ]
  },
  {
   "cell_type": "markdown",
   "id": "8a8e58c0",
   "metadata": {},
   "source": [
    "#### Set device"
   ]
  },
  {
   "cell_type": "code",
   "execution_count": 6,
   "id": "17cabd46",
   "metadata": {},
   "outputs": [],
   "source": [
    "device = torch.device('cpu')\n",
    "mario_lm = mario_lm.to(device)"
   ]
  },
  {
   "cell_type": "markdown",
   "id": "a8fad057",
   "metadata": {},
   "source": [
    "## Generating Levels"
   ]
  },
  {
   "cell_type": "code",
   "execution_count": 7,
   "id": "927bfdad",
   "metadata": {},
   "outputs": [],
   "source": [
    "prompts = [\"many pipes, many enemies, some blocks, high elevation\"]"
   ]
  },
  {
   "cell_type": "markdown",
   "id": "868ba3b2",
   "metadata": {},
   "source": [
    "##### We generate 1399 predictions for an even 1400 output (including the input seed which is just a single block). Mario Levels have height of 14, so we generate 100 columns. You don't have to worry about perfect dimensions, we'll trim the remainder for you!"
   ]
  },
  {
   "cell_type": "code",
   "execution_count": 8,
   "id": "89bd5137",
   "metadata": {
    "scrolled": true,
    "tags": []
   },
   "outputs": [
    {
     "name": "stderr",
     "output_type": "stream",
     "text": [
      "shape: torch.Size([1, 672]), torch.Size([1, 1401]) first: 56, last: 56: 100%|█| \n"
     ]
    }
   ],
   "source": [
    "generated_level = mario_lm.sample(\n",
    "    prompts=prompts,\n",
    "    num_steps=1400,\n",
    "    temperature=2.0,\n",
    "    use_tqdm=True\n",
    ")"
   ]
  },
  {
   "cell_type": "code",
   "execution_count": 9,
   "id": "9d836351",
   "metadata": {},
   "outputs": [
    {
     "data": {
      "image/png": "[encoded data removed]",
      "text/plain": [
       "<PIL.Image.Image image mode=RGB size=1600x224 at 0x730AE960D7E0>"
      ]
     },
     "execution_count": 9,
     "metadata": {},
     "output_type": "execute_result"
    }
   ],
   "source": [
    "generated_level.img"
   ]
  },
  {
   "cell_type": "markdown",
   "id": "610b3f66",
   "metadata": {
    "tags": []
   },
   "source": [
    "#### Check if the model generated the correct level\n",
    "##### Because of the stochastic nature of the model and the small training dataset, the model may generate levels that do not completely match the given prompt"
   ]
  },
  {
   "cell_type": "code",
   "execution_count": 10,
   "id": "d18d6097",
   "metadata": {},
   "outputs": [
    {
     "data": {
      "text/plain": [
       "'some pipes, many enemies, many blocks, high elevation'"
      ]
     },
     "execution_count": 10,
     "metadata": {},
     "output_type": "execute_result"
    }
   ],
   "source": [
    "generated_level.prompt"
   ]
  },
  {
   "cell_type": "markdown",
   "id": "12dc4d7f",
   "metadata": {},
   "source": [
    "## Generate Midi"
   ]
  },
  {
   "cell_type": "code",
   "execution_count": 13,
   "id": "4911db5e",
   "metadata": {},
   "outputs": [
    {
     "name": "stdout",
     "output_type": "stream",
     "text": [
      "Running Astar agent on level! -- /tmp/tmp93iijwem.txt\n"
     ]
    },
    {
     "name": "stderr",
     "output_type": "stream",
     "text": [
      "Exception in thread \"main\" java.lang.ArrayIndexOutOfBoundsException: Index 3 out of bounds for length 3\n",
      "\tat PlayAstar.main(PlayAstar.java:92)\n"
     ]
    },
    {
     "ename": "TypeError",
     "evalue": "'NoneType' object is not subscriptable",
     "output_type": "error",
     "traceback": [
      "\u001b[0;31m---------------------------------------------------------------------------\u001b[0m",
      "\u001b[0;31mTypeError\u001b[0m                                 Traceback (most recent call last)",
      "Cell \u001b[0;32mIn[13], line 1\u001b[0m\n\u001b[0;32m----> 1\u001b[0m \u001b[43mgenerated_level\u001b[49m\u001b[38;5;241;43m.\u001b[39;49m\u001b[43mgenerate_midi\u001b[49m\u001b[43m(\u001b[49m\u001b[43m)\u001b[49m\n",
      "File \u001b[0;32m~/Documents/src/mario-gpt/mario_gpt/sampler.py:127\u001b[0m, in \u001b[0;36mSampleOutput.generate_midi\u001b[0;34m(self, render)\u001b[0m\n\u001b[1;32m    125\u001b[0m simulator \u001b[38;5;241m=\u001b[39m Simulator(level\u001b[38;5;241m=\u001b[39m\u001b[38;5;28mself\u001b[39m\u001b[38;5;241m.\u001b[39mlevel)\n\u001b[1;32m    126\u001b[0m out \u001b[38;5;241m=\u001b[39m simulator\u001b[38;5;241m.\u001b[39mastar(render)        \n\u001b[0;32m--> 127\u001b[0m out \u001b[38;5;241m=\u001b[39m \u001b[43mout\u001b[49m\u001b[43m[\u001b[49m\u001b[38;5;241;43m7\u001b[39;49m\u001b[43m:\u001b[49m\u001b[43m]\u001b[49m\n\u001b[1;32m    128\u001b[0m coords \u001b[38;5;241m=\u001b[39m [\n\u001b[1;32m    129\u001b[0m (\u001b[38;5;28mfloat\u001b[39m(line\u001b[38;5;241m.\u001b[39msplit(\u001b[38;5;124m\"\u001b[39m\u001b[38;5;124m , \u001b[39m\u001b[38;5;124m\"\u001b[39m)[\u001b[38;5;241m0\u001b[39m]), \u001b[38;5;28mfloat\u001b[39m(line\u001b[38;5;241m.\u001b[39msplit(\u001b[38;5;124m\"\u001b[39m\u001b[38;5;124m , \u001b[39m\u001b[38;5;124m\"\u001b[39m)[\u001b[38;5;241m1\u001b[39m]))\n\u001b[1;32m    130\u001b[0m \u001b[38;5;28;01mfor\u001b[39;00m line \u001b[38;5;129;01min\u001b[39;00m out]\n\u001b[1;32m    131\u001b[0m coords \u001b[38;5;241m=\u001b[39m [\n\u001b[1;32m    132\u001b[0m (\u001b[38;5;28mint\u001b[39m(floor(x \u001b[38;5;241m/\u001b[39m tilesize)), \u001b[38;5;28mint\u001b[39m(floor(y \u001b[38;5;241m/\u001b[39m tilesize))) \u001b[38;5;28;01mfor\u001b[39;00m (x, y) \u001b[38;5;129;01min\u001b[39;00m coords_raw]\n",
      "\u001b[0;31mTypeError\u001b[0m: 'NoneType' object is not subscriptable"
     ]
    }
   ],
   "source": [
    "generated_level.generate_midi()\n"
   ]
  },
  {
   "cell_type": "markdown",
   "id": "08136c89",
   "metadata": {},
   "source": [
    "## Run Astar Agent"
   ]
  },
  {
   "cell_type": "code",
   "execution_count": null,
   "id": "fa6edf15",
   "metadata": {},
   "outputs": [],
   "source": [
    "generated_level.run_astar()"
   ]
  },
  {
   "cell_type": "markdown",
   "id": "81c40589-aa81-4b19-b236-f365660fd39c",
   "metadata": {},
   "source": [
    "## Continue generation"
   ]
  },
  {
   "cell_type": "markdown",
   "id": "08acdbbd-9e09-4dee-badb-c1b944f9fd6d",
   "metadata": {},
   "source": [
    "### You can also continue generation, making giant levels"
   ]
  },
  {
   "cell_type": "code",
   "execution_count": null,
   "id": "b3627015-5f0b-45e5-a1f6-6480c8bdc3ac",
   "metadata": {},
   "outputs": [],
   "source": [
    "# different prompt\n",
    "prompts = [\"no pipes, some enemies, some blocks, high elevation\"]"
   ]
  },
  {
   "cell_type": "code",
   "execution_count": null,
   "id": "98d0c5ff-0d47-4124-b128-5a2616c3e3f0",
   "metadata": {},
   "outputs": [],
   "source": [
    "generated_level_continued = mario_lm.sample(\n",
    "    seed=generated_level,\n",
    "    prompts=prompts,\n",
    "    num_steps=1400,\n",
    "    temperature=2.0,\n",
    "    use_tqdm=True\n",
    ")"
   ]
  },
  {
   "cell_type": "code",
   "execution_count": null,
   "id": "33f24d9b-983a-45e2-b5d8-f560573fff8f",
   "metadata": {},
   "outputs": [],
   "source": [
    "generated_level_continued.img"
   ]
  },
  {
   "cell_type": "code",
   "execution_count": null,
   "id": "4c2e6b67-ecb3-4d47-be1e-222b492efb8d",
   "metadata": {},
   "outputs": [],
   "source": [
    "generated_level_continued.run_astar()"
   ]
  },
  {
   "cell_type": "markdown",
   "id": "3abff079-ed2a-4253-85d2-d248ae779e8c",
   "metadata": {
    "tags": []
   },
   "source": [
    "## Batch multiple prompts"
   ]
  },
  {
   "cell_type": "code",
   "execution_count": null,
   "id": "bd12d26f-f153-40c6-947f-0d9f700168b0",
   "metadata": {},
   "outputs": [],
   "source": [
    "prompts = [\"no pipes, many enemies, some blocks, high elevation\", \"many pipes, no enemies, many blocks, high elevation\", \"many pipes, many enemies, little blocks, low elevation\"]\n",
    "\n",
    "generated_levels = mario_lm.sample(\n",
    "    prompts=prompts,\n",
    "    num_steps=1400,\n",
    "    temperature=2.0,\n",
    "    use_tqdm=True\n",
    ")"
   ]
  },
  {
   "cell_type": "code",
   "execution_count": null,
   "id": "27f0e1b8-1495-4c68-8163-479436c0d17d",
   "metadata": {},
   "outputs": [],
   "source": [
    "generated_levels[0].img"
   ]
  },
  {
   "cell_type": "code",
   "execution_count": null,
   "id": "25d08df4-029e-43a3-ac73-bfc4c595dee8",
   "metadata": {},
   "outputs": [],
   "source": [
    "generated_levels[1].img"
   ]
  },
  {
   "cell_type": "code",
   "execution_count": null,
   "id": "589b0df3-d504-4a33-899c-eea2780d126a",
   "metadata": {},
   "outputs": [],
   "source": [
    "generated_levels[2].img"
   ]
  },
  {
   "cell_type": "markdown",
   "id": "62768f31-c6bd-4b23-a346-877785ad8e2f",
   "metadata": {},
   "source": [
    "### Generate Timelapses"
   ]
  },
  {
   "cell_type": "code",
   "execution_count": null,
   "id": "efacb8ef-d006-4977-b366-2ddfab67a95b",
   "metadata": {},
   "outputs": [],
   "source": [
    "from mario_gpt.utils import generate_timelapse"
   ]
  },
  {
   "cell_type": "code",
   "execution_count": null,
   "id": "a6224014-045b-495b-b214-fb433dd9df3c",
   "metadata": {},
   "outputs": [],
   "source": [
    "timelapse_0 = generate_timelapse(generated_levels[0].level_tensor, mario_lm)"
   ]
  },
  {
   "cell_type": "code",
   "execution_count": null,
   "id": "e66c97cf-5115-48ef-84c5-fba6fd618bc1",
   "metadata": {},
   "outputs": [],
   "source": [
    "timelapse_1 = generate_timelapse(generated_levels[1].level_tensor, mario_lm)"
   ]
  },
  {
   "cell_type": "code",
   "execution_count": null,
   "id": "dc1c293a-6cf9-42ca-bb9c-2b3e28e12064",
   "metadata": {},
   "outputs": [],
   "source": [
    "timelapse_2 = generate_timelapse(generated_levels[2].level_tensor, mario_lm)"
   ]
  },
  {
   "cell_type": "code",
   "execution_count": null,
   "id": "1fc549b9-7309-4429-905c-7d5e59cc8297",
   "metadata": {},
   "outputs": [],
   "source": [
    "# save\n",
    "# import imageio\n",
    "# imageio.mimsave('timelapse_0.gif',timelapse_0,fps=60)"
   ]
  }
 ],
 "metadata": {
  "kernelspec": {
   "display_name": "alife-music",
   "language": "python",
   "name": "alife-music"
  },
  "language_info": {
   "codemirror_mode": {
    "name": "ipython",
    "version": 3
   },
   "file_extension": ".py",
   "mimetype": "text/x-python",
   "name": "python",
   "nbconvert_exporter": "python",
   "pygments_lexer": "ipython3",
   "version": "3.10.12"
  }
 },
 "nbformat": 4,
 "nbformat_minor": 5
}
